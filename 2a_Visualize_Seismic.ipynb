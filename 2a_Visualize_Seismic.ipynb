{
 "cells": [
  {
   "cell_type": "markdown",
   "id": "ff602abc",
   "metadata": {},
   "source": [
    "# Visualize train/test seismic data\n",
    "---\n",
    "#### 1. Load data created in notebook 1_Database_Construction\n",
    "#### 2. Split data\n",
    "#### 3. Plot train/test seismic data for each split\n",
    "---\n",
    "#### File paths represent those used in the study.\n",
    "#### Users will have to be sure file paths match where they stored the data/spreadsheets."
   ]
  },
  {
   "cell_type": "code",
   "execution_count": 1,
   "id": "a7fd8b80",
   "metadata": {},
   "outputs": [
    {
     "name": "stdout",
     "output_type": "stream",
     "text": [
      "CPU times: user 3.56 s, sys: 5.42 s, total: 8.99 s\n",
      "Wall time: 4.94 s\n"
     ]
    }
   ],
   "source": [
    "%%time\n",
    "import os\n",
    "#-----------------------------------------------------------------------------------------------------------------------#\n",
    "import numpy as np\n",
    "import pandas as pd\n",
    "import koreageonet_v1 as KGN\n",
    "import matplotlib.pyplot as plt\n",
    "#-----------------------------------------------------------------------------------------------------------------------#\n",
    "from obspy import *\n",
    "#-----------------------------------------------------------------------------------------------------------------------#\n",
    "# ML Packages \n",
    "from tensorflow.keras import *\n",
    "from sklearn.model_selection import StratifiedKFold"
   ]
  },
  {
   "cell_type": "markdown",
   "id": "79466174",
   "metadata": {},
   "source": [
    "## Load data vectors and concatenate\n",
    "---"
   ]
  },
  {
   "cell_type": "code",
   "execution_count": 2,
   "id": "c73df104",
   "metadata": {},
   "outputs": [
    {
     "name": "stdout",
     "output_type": "stream",
     "text": [
      "CPU times: user 2.19 ms, sys: 260 ms, total: 262 ms\n",
      "Wall time: 898 ms\n"
     ]
    }
   ],
   "source": [
    "%%time\n",
    "# Earthquakes\n",
    "data_eq = np.load('/Volumes/Extreme SSD/Korea_Events/Earthquakes/seismic_data_eq.npy')\n",
    "metadata_eq = np.load('/Volumes/Extreme SSD/Korea_Events/Earthquakes/metadata_eq.npy')\n",
    "stn_labels_eq = np.load('/Volumes/Extreme SSD/Korea_Events/Earthquakes/stn_labels_eq.npy')\n",
    "#-----------------------------------------------------------------------------------------------------------------------#\n",
    "# Explosions\n",
    "data_exp = np.load('/Volumes/Extreme SSD/Korea_Events/Explosions/seismic_data_exp.npy')\n",
    "metadata_exp = np.load('/Volumes/Extreme SSD/Korea_Events/Explosions/metadata_exp.npy')\n",
    "stn_labels_exp = np.load('/Volumes/Extreme SSD/Korea_Events/Explosions/stn_labels_exp.npy')"
   ]
  },
  {
   "cell_type": "code",
   "execution_count": 3,
   "id": "9ad1f44d",
   "metadata": {},
   "outputs": [
    {
     "name": "stdout",
     "output_type": "stream",
     "text": [
      "CPU times: user 67.3 ms, sys: 235 ms, total: 302 ms\n",
      "Wall time: 331 ms\n"
     ]
    }
   ],
   "source": [
    "%%time\n",
    "# Making one-hot-encoded labels (0 = earthquake, 1 = explosion)\n",
    "y_exp = np.full(len(data_exp),1)\n",
    "y_eq = np.full(len(data_eq),0)\n",
    "y = np.concatenate((y_exp, y_eq))\n",
    "y_ohe = utils.to_categorical(y.astype('int64'))\n",
    "#-----------------------------------------------------------------------------------------------------------------------#\n",
    "# Now let's merge the waveform data and event metadata\n",
    "X = np.concatenate((data_exp, data_eq))\n",
    "event_metadata = np.concatenate((metadata_exp, metadata_eq)) # event type, array, lat, lon, mag, dist\n",
    "stn_labels = np.concatenate((stn_labels_exp, stn_labels_eq)) # station labels"
   ]
  },
  {
   "cell_type": "markdown",
   "id": "16f47e5f",
   "metadata": {},
   "source": [
    "## Execute k-fold cross-validation and save seismic train/test plots for each split\n",
    "---"
   ]
  },
  {
   "cell_type": "code",
   "execution_count": 1,
   "id": "a2e6f650",
   "metadata": {
    "scrolled": true
   },
   "outputs": [],
   "source": [
    "n_splits = 5; split = 0; plt.ioff()\n",
    "kfold = StratifiedKFold(n_splits=n_splits, shuffle=True, random_state=42)\n",
    "for train_index, test_index in kfold.split(X, y):\n",
    "    print('Begin split # ' +str(split+1) + ' of '+ str(n_splits))\n",
    "    if split != 1: split += 1; continue\n",
    "    #-----------------------------------------------------------------------------------------------------------------------#\n",
    "    # Split dataset\n",
    "    X_train, X_test = X[train_index], X[test_index]\n",
    "    ev_metadata_train, ev_metadata_test = event_metadata[train_index], event_metadata[test_index]\n",
    "    stn_labels_train, stn_labels_test = stn_labels[train_index], stn_labels[test_index]\n",
    "    #-----------------------------------------------------------------------------------------------------------------------#\n",
    "    # Plot train and test sets for split\n",
    "    KGN.TrainTest_seismic_plots(ev_metadata_train, X_train, stn_labels_train, outfigdir='/Volumes/Extreme SSD/Korea_Events/Plots/Han_2023/Split_'+str(split+1)+'/Seismic/', train=True)\n",
    "    KGN.TrainTest_seismic_plots(ev_metadata_test, X_test, stn_labels_test, outfigdir='/Volumes/Extreme SSD/Korea_Events/Plots/Han_2023/Split_'+str(split+1)+'/Seismic/', train=False)\n",
    "    split += 1"
   ]
  },
  {
   "cell_type": "code",
   "execution_count": null,
   "id": "8f22f81e",
   "metadata": {},
   "outputs": [],
   "source": []
  }
 ],
 "metadata": {
  "kernelspec": {
   "display_name": "Python 3 (ipykernel)",
   "language": "python",
   "name": "python3"
  },
  "language_info": {
   "codemirror_mode": {
    "name": "ipython",
    "version": 3
   },
   "file_extension": ".py",
   "mimetype": "text/x-python",
   "name": "python",
   "nbconvert_exporter": "python",
   "pygments_lexer": "ipython3",
   "version": "3.11.0"
  }
 },
 "nbformat": 4,
 "nbformat_minor": 5
}
